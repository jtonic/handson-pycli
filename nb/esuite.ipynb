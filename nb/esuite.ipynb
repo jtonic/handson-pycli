{
 "cells": [
  {
   "cell_type": "markdown",
   "metadata": {},
   "source": [
    "## __Imports__"
   ]
  },
  {
   "cell_type": "code",
   "execution_count": null,
   "metadata": {},
   "outputs": [],
   "source": [
    "import sys\n",
    "sys.path.append('../src/main/')\n",
    "import numpy as np\n",
    "import pandas as pd\n",
    "from pycli.teacher import Teacher\n",
    "import matplotlib.pyplot as plt\n",
    "from IPython.display import display\n",
    "from getpass import getpass\n",
    "import os\n"
   ]
  },
  {
   "cell_type": "markdown",
   "metadata": {},
   "source": [
    "## __Prerequisites__"
   ]
  },
  {
   "cell_type": "code",
   "execution_count": null,
   "metadata": {},
   "outputs": [],
   "source": [
    "no_print = input(\"Do you want to prevent printing to stdout? [Y|n]\")\n",
    "if no_print.lower() != \"n\":\n",
    "    f = open(os.devnull, 'w')\n",
    "    sys.stdout = f\n",
    "\n",
    "plt.close(\"all\")"
   ]
  },
  {
   "cell_type": "markdown",
   "metadata": {},
   "source": [
    "## Snippets:\n",
    "\n",
    "```javascript\n",
    "console.log(\"Hello World\")\n",
    "```"
   ]
  },
  {
   "cell_type": "markdown",
   "metadata": {},
   "source": [
    "## __Input data__"
   ]
  },
  {
   "cell_type": "code",
   "execution_count": null,
   "metadata": {},
   "outputs": [],
   "source": [
    "msg1 = \"Hello, Python Notebook\"\n",
    "msg2 = \"How are you?\"\n",
    "\n",
    "df = pd.DataFrame(\n",
    "    {\n",
    "        \"Name\": [\n",
    "            \"Braund, Mr. Owen Harris\",\n",
    "            \"Allen, Mr. William Henry\",\n",
    "            \"Bonnell, Miss. Elizabeth\",\n",
    "        ],\n",
    "        \"Age\": [22, 35, 58],\n",
    "        \"Sex\": [\"male\", \"male\", \"female\"],\n",
    "    }\n",
    ")\n",
    "\n",
    "arr = np.array([10, 7, 100, 200, 30, 2, 3, 4, 5, 6, 7, 8, 9])\n",
    "numbers_df = pd.DataFrame(arr, columns = ['Number'])\n",
    "display(numbers_df.style)\n",
    "\n",
    "first_name = input(\"Your first name:\")\n",
    "last_name = input(\"Your last name:\")\n",
    "\n",
    "jtonic = Teacher(first_name=first_name, last_name=last_name)\n",
    "jtonic.test_notebook_debugging()\n",
    "\n",
    "password = getpass()\n",
    "print(f'password: {password}')\n",
    "\n",
    "jtonic\n"
   ]
  },
  {
   "cell_type": "markdown",
   "metadata": {},
   "source": [
    "## __Show__ the `duplicates`"
   ]
  },
  {
   "cell_type": "code",
   "execution_count": null,
   "metadata": {},
   "outputs": [],
   "source": [
    "print(f\"Teacher: {jtonic}\")\n",
    "arr.sort()\n",
    "print(f'First two elements: {arr[0:2]}')\n",
    "\n",
    "print(f\"What is this all about?. The message is: {msg1}\")\n",
    "print(arr)\n",
    "print(arr.size)\n",
    "print(arr.shape)\n",
    "print(arr.ndim)\n"
   ]
  },
  {
   "cell_type": "markdown",
   "metadata": {},
   "source": [
    "## __Panda: ex 1__"
   ]
  },
  {
   "cell_type": "code",
   "execution_count": null,
   "metadata": {},
   "outputs": [],
   "source": [
    "display(df.style)\n",
    "# print(80 * \"=\")\n",
    "# display(df.style[\"Age\"])"
   ]
  },
  {
   "cell_type": "markdown",
   "metadata": {},
   "source": [
    "## __Panda: ex 2__"
   ]
  },
  {
   "cell_type": "code",
   "execution_count": null,
   "metadata": {},
   "outputs": [],
   "source": [
    "np.random.seed(0)\n",
    "df2 = pd.DataFrame(np.random.randn(10,4), columns=['A','B','C','D'])\n",
    "df2.style"
   ]
  },
  {
   "cell_type": "markdown",
   "metadata": {},
   "source": [
    "## __Panda: ex 3 (plotting)__"
   ]
  },
  {
   "cell_type": "code",
   "execution_count": null,
   "metadata": {},
   "outputs": [],
   "source": [
    "ts = pd.Series(np.random.randn(1000), index=pd.date_range(\"1/1/2000\", periods=1000))\n",
    "ts.cumsum()\n",
    "ts.plot()"
   ]
  }
 ],
 "metadata": {
  "interpreter": {
   "hash": "e382f00930175810ff43e6d1dd43c20caa4fac8cda8d5a547fa4ce44995329e0"
  },
  "kernelspec": {
   "display_name": "Python 3.9.7 64-bit ('3.9.7': pyenv)",
   "language": "python",
   "name": "python3"
  },
  "language_info": {
   "codemirror_mode": {
    "name": "ipython",
    "version": 3
   },
   "file_extension": ".py",
   "mimetype": "text/x-python",
   "name": "python",
   "nbconvert_exporter": "python",
   "pygments_lexer": "ipython3",
   "version": "3.10.2"
  },
  "orig_nbformat": 4
 },
 "nbformat": 4,
 "nbformat_minor": 2
}
