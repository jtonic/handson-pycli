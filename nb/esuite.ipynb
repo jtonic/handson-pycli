{
 "cells": [
  {
   "cell_type": "markdown",
   "metadata": {},
   "source": [
    "## __Imports__"
   ]
  },
  {
   "cell_type": "code",
   "execution_count": 1,
   "metadata": {},
   "outputs": [],
   "source": [
    "import numpy as np\n",
    "import pandas as pd\n",
    "from pycli.teacher import Teacher\n",
    "import matplotlib.pyplot as plt\n",
    "from IPython.display import display\n",
    "from getpass import getpass\n",
    "import os\n",
    "import sys\n"
   ]
  },
  {
   "cell_type": "markdown",
   "metadata": {},
   "source": [
    "## __Prerequisites__"
   ]
  },
  {
   "cell_type": "code",
   "execution_count": 2,
   "metadata": {},
   "outputs": [],
   "source": [
    "no_print = input(\"Do you want to prevent printing to stdout? [Y|n]\")\n",
    "if no_print.lower() != \"n\":\n",
    "    f = open(os.devnull, 'w')\n",
    "    sys.stdout = f\n",
    "\n",
    "plt.close(\"all\")"
   ]
  },
  {
   "cell_type": "markdown",
   "metadata": {},
   "source": [
    "## Snippets:\n",
    "\n",
    "```javascript\n",
    "console.log(\"Hello World\")\n",
    "```"
   ]
  },
  {
   "cell_type": "markdown",
   "metadata": {},
   "source": [
    "## __Input data__"
   ]
  },
  {
   "cell_type": "code",
   "execution_count": 3,
   "metadata": {},
   "outputs": [
    {
     "data": {
      "text/html": [
       "<style type=\"text/css\">\n",
       "</style>\n",
       "<table id=\"T_fb306_\">\n",
       "  <thead>\n",
       "    <tr>\n",
       "      <th class=\"blank level0\" >&nbsp;</th>\n",
       "      <th class=\"col_heading level0 col0\" >Number</th>\n",
       "    </tr>\n",
       "  </thead>\n",
       "  <tbody>\n",
       "    <tr>\n",
       "      <th id=\"T_fb306_level0_row0\" class=\"row_heading level0 row0\" >0</th>\n",
       "      <td id=\"T_fb306_row0_col0\" class=\"data row0 col0\" >10</td>\n",
       "    </tr>\n",
       "    <tr>\n",
       "      <th id=\"T_fb306_level0_row1\" class=\"row_heading level0 row1\" >1</th>\n",
       "      <td id=\"T_fb306_row1_col0\" class=\"data row1 col0\" >7</td>\n",
       "    </tr>\n",
       "    <tr>\n",
       "      <th id=\"T_fb306_level0_row2\" class=\"row_heading level0 row2\" >2</th>\n",
       "      <td id=\"T_fb306_row2_col0\" class=\"data row2 col0\" >100</td>\n",
       "    </tr>\n",
       "    <tr>\n",
       "      <th id=\"T_fb306_level0_row3\" class=\"row_heading level0 row3\" >3</th>\n",
       "      <td id=\"T_fb306_row3_col0\" class=\"data row3 col0\" >200</td>\n",
       "    </tr>\n",
       "    <tr>\n",
       "      <th id=\"T_fb306_level0_row4\" class=\"row_heading level0 row4\" >4</th>\n",
       "      <td id=\"T_fb306_row4_col0\" class=\"data row4 col0\" >30</td>\n",
       "    </tr>\n",
       "    <tr>\n",
       "      <th id=\"T_fb306_level0_row5\" class=\"row_heading level0 row5\" >5</th>\n",
       "      <td id=\"T_fb306_row5_col0\" class=\"data row5 col0\" >2</td>\n",
       "    </tr>\n",
       "    <tr>\n",
       "      <th id=\"T_fb306_level0_row6\" class=\"row_heading level0 row6\" >6</th>\n",
       "      <td id=\"T_fb306_row6_col0\" class=\"data row6 col0\" >3</td>\n",
       "    </tr>\n",
       "    <tr>\n",
       "      <th id=\"T_fb306_level0_row7\" class=\"row_heading level0 row7\" >7</th>\n",
       "      <td id=\"T_fb306_row7_col0\" class=\"data row7 col0\" >4</td>\n",
       "    </tr>\n",
       "    <tr>\n",
       "      <th id=\"T_fb306_level0_row8\" class=\"row_heading level0 row8\" >8</th>\n",
       "      <td id=\"T_fb306_row8_col0\" class=\"data row8 col0\" >5</td>\n",
       "    </tr>\n",
       "    <tr>\n",
       "      <th id=\"T_fb306_level0_row9\" class=\"row_heading level0 row9\" >9</th>\n",
       "      <td id=\"T_fb306_row9_col0\" class=\"data row9 col0\" >6</td>\n",
       "    </tr>\n",
       "    <tr>\n",
       "      <th id=\"T_fb306_level0_row10\" class=\"row_heading level0 row10\" >10</th>\n",
       "      <td id=\"T_fb306_row10_col0\" class=\"data row10 col0\" >7</td>\n",
       "    </tr>\n",
       "    <tr>\n",
       "      <th id=\"T_fb306_level0_row11\" class=\"row_heading level0 row11\" >11</th>\n",
       "      <td id=\"T_fb306_row11_col0\" class=\"data row11 col0\" >8</td>\n",
       "    </tr>\n",
       "    <tr>\n",
       "      <th id=\"T_fb306_level0_row12\" class=\"row_heading level0 row12\" >12</th>\n",
       "      <td id=\"T_fb306_row12_col0\" class=\"data row12 col0\" >9</td>\n",
       "    </tr>\n",
       "  </tbody>\n",
       "</table>\n"
      ],
      "text/plain": [
       "<pandas.io.formats.style.Styler at 0x116110790>"
      ]
     },
     "metadata": {},
     "output_type": "display_data"
    },
    {
     "name": "stdout",
     "output_type": "stream",
     "text": [
      "\u001b[31m\u001b[1mHow are you man?\u001b[0m\n",
      "nothing here in teacher\n",
      "password: c\n"
     ]
    },
    {
     "data": {
      "text/plain": [
       "Teacher(first_name='a', last_name='b')"
      ]
     },
     "execution_count": 3,
     "metadata": {},
     "output_type": "execute_result"
    }
   ],
   "source": [
    "msg1 = \"Hello, Python Notebook\"\n",
    "msg2 = \"How are you?\"\n",
    "\n",
    "df = pd.DataFrame(\n",
    "    {\n",
    "        \"Name\": [\n",
    "            \"Braund, Mr. Owen Harris\",\n",
    "            \"Allen, Mr. William Henry\",\n",
    "            \"Bonnell, Miss. Elizabeth\",\n",
    "        ],\n",
    "        \"Age\": [22, 35, 58],\n",
    "        \"Sex\": [\"male\", \"male\", \"female\"],\n",
    "    }\n",
    ")\n",
    "\n",
    "arr = np.array([10, 7, 100, 200, 30, 2, 3, 4, 5, 6, 7, 8, 9])\n",
    "numbers_df = pd.DataFrame(arr, columns = ['Number'])\n",
    "display(numbers_df.style)\n",
    "\n",
    "first_name = input(\"Your first name:\")\n",
    "last_name = input(\"Your last name:\")\n",
    "\n",
    "jtonic = Teacher(first_name=first_name, last_name=last_name)\n",
    "jtonic.test_notebook_debugging()\n",
    "\n",
    "password = getpass()\n",
    "print(f'password: {password}')\n",
    "\n",
    "jtonic\n"
   ]
  },
  {
   "cell_type": "markdown",
   "metadata": {},
   "source": [
    "## __Show__ the `duplicates`"
   ]
  },
  {
   "cell_type": "code",
   "execution_count": 4,
   "metadata": {},
   "outputs": [
    {
     "name": "stdout",
     "output_type": "stream",
     "text": [
      "Teacher: Teacher(first_name='a', last_name='b')\n",
      "First two elements: [2 3]\n",
      "What is this all about?. The message is: Hello, Python Notebook\n",
      "[  2   3   4   5   6   7   7   8   9  10  30 100 200]\n",
      "13\n",
      "(13,)\n",
      "1\n"
     ]
    }
   ],
   "source": [
    "print(f\"Teacher: {jtonic}\")\n",
    "arr.sort()\n",
    "print(f'First two elements: {arr[0:2]}')\n",
    "\n",
    "print(f\"What is this all about?. The message is: {msg1}\")\n",
    "print(arr)\n",
    "print(arr.size)\n",
    "print(arr.shape)\n",
    "print(arr.ndim)\n"
   ]
  },
  {
   "cell_type": "markdown",
   "metadata": {},
   "source": [
    "## __Panda: ex 1__"
   ]
  },
  {
   "cell_type": "code",
   "execution_count": 5,
   "metadata": {},
   "outputs": [
    {
     "data": {
      "text/html": [
       "<style type=\"text/css\">\n",
       "</style>\n",
       "<table id=\"T_384fe_\">\n",
       "  <thead>\n",
       "    <tr>\n",
       "      <th class=\"blank level0\" >&nbsp;</th>\n",
       "      <th class=\"col_heading level0 col0\" >Name</th>\n",
       "      <th class=\"col_heading level0 col1\" >Age</th>\n",
       "      <th class=\"col_heading level0 col2\" >Sex</th>\n",
       "    </tr>\n",
       "  </thead>\n",
       "  <tbody>\n",
       "    <tr>\n",
       "      <th id=\"T_384fe_level0_row0\" class=\"row_heading level0 row0\" >0</th>\n",
       "      <td id=\"T_384fe_row0_col0\" class=\"data row0 col0\" >Braund, Mr. Owen Harris</td>\n",
       "      <td id=\"T_384fe_row0_col1\" class=\"data row0 col1\" >22</td>\n",
       "      <td id=\"T_384fe_row0_col2\" class=\"data row0 col2\" >male</td>\n",
       "    </tr>\n",
       "    <tr>\n",
       "      <th id=\"T_384fe_level0_row1\" class=\"row_heading level0 row1\" >1</th>\n",
       "      <td id=\"T_384fe_row1_col0\" class=\"data row1 col0\" >Allen, Mr. William Henry</td>\n",
       "      <td id=\"T_384fe_row1_col1\" class=\"data row1 col1\" >35</td>\n",
       "      <td id=\"T_384fe_row1_col2\" class=\"data row1 col2\" >male</td>\n",
       "    </tr>\n",
       "    <tr>\n",
       "      <th id=\"T_384fe_level0_row2\" class=\"row_heading level0 row2\" >2</th>\n",
       "      <td id=\"T_384fe_row2_col0\" class=\"data row2 col0\" >Bonnell, Miss. Elizabeth</td>\n",
       "      <td id=\"T_384fe_row2_col1\" class=\"data row2 col1\" >58</td>\n",
       "      <td id=\"T_384fe_row2_col2\" class=\"data row2 col2\" >female</td>\n",
       "    </tr>\n",
       "  </tbody>\n",
       "</table>\n"
      ],
      "text/plain": [
       "<pandas.io.formats.style.Styler at 0x116110790>"
      ]
     },
     "metadata": {},
     "output_type": "display_data"
    }
   ],
   "source": [
    "display(df.style)\n",
    "# print(80 * \"=\")\n",
    "# display(df.style[\"Age\"])"
   ]
  },
  {
   "cell_type": "markdown",
   "metadata": {},
   "source": [
    "## __Panda: ex 2__"
   ]
  },
  {
   "cell_type": "code",
   "execution_count": 6,
   "metadata": {},
   "outputs": [
    {
     "data": {
      "text/html": [
       "<style type=\"text/css\">\n",
       "</style>\n",
       "<table id=\"T_b4908_\">\n",
       "  <thead>\n",
       "    <tr>\n",
       "      <th class=\"blank level0\" >&nbsp;</th>\n",
       "      <th class=\"col_heading level0 col0\" >A</th>\n",
       "      <th class=\"col_heading level0 col1\" >B</th>\n",
       "      <th class=\"col_heading level0 col2\" >C</th>\n",
       "      <th class=\"col_heading level0 col3\" >D</th>\n",
       "    </tr>\n",
       "  </thead>\n",
       "  <tbody>\n",
       "    <tr>\n",
       "      <th id=\"T_b4908_level0_row0\" class=\"row_heading level0 row0\" >0</th>\n",
       "      <td id=\"T_b4908_row0_col0\" class=\"data row0 col0\" >1.764052</td>\n",
       "      <td id=\"T_b4908_row0_col1\" class=\"data row0 col1\" >0.400157</td>\n",
       "      <td id=\"T_b4908_row0_col2\" class=\"data row0 col2\" >0.978738</td>\n",
       "      <td id=\"T_b4908_row0_col3\" class=\"data row0 col3\" >2.240893</td>\n",
       "    </tr>\n",
       "    <tr>\n",
       "      <th id=\"T_b4908_level0_row1\" class=\"row_heading level0 row1\" >1</th>\n",
       "      <td id=\"T_b4908_row1_col0\" class=\"data row1 col0\" >1.867558</td>\n",
       "      <td id=\"T_b4908_row1_col1\" class=\"data row1 col1\" >-0.977278</td>\n",
       "      <td id=\"T_b4908_row1_col2\" class=\"data row1 col2\" >0.950088</td>\n",
       "      <td id=\"T_b4908_row1_col3\" class=\"data row1 col3\" >-0.151357</td>\n",
       "    </tr>\n",
       "    <tr>\n",
       "      <th id=\"T_b4908_level0_row2\" class=\"row_heading level0 row2\" >2</th>\n",
       "      <td id=\"T_b4908_row2_col0\" class=\"data row2 col0\" >-0.103219</td>\n",
       "      <td id=\"T_b4908_row2_col1\" class=\"data row2 col1\" >0.410599</td>\n",
       "      <td id=\"T_b4908_row2_col2\" class=\"data row2 col2\" >0.144044</td>\n",
       "      <td id=\"T_b4908_row2_col3\" class=\"data row2 col3\" >1.454274</td>\n",
       "    </tr>\n",
       "    <tr>\n",
       "      <th id=\"T_b4908_level0_row3\" class=\"row_heading level0 row3\" >3</th>\n",
       "      <td id=\"T_b4908_row3_col0\" class=\"data row3 col0\" >0.761038</td>\n",
       "      <td id=\"T_b4908_row3_col1\" class=\"data row3 col1\" >0.121675</td>\n",
       "      <td id=\"T_b4908_row3_col2\" class=\"data row3 col2\" >0.443863</td>\n",
       "      <td id=\"T_b4908_row3_col3\" class=\"data row3 col3\" >0.333674</td>\n",
       "    </tr>\n",
       "    <tr>\n",
       "      <th id=\"T_b4908_level0_row4\" class=\"row_heading level0 row4\" >4</th>\n",
       "      <td id=\"T_b4908_row4_col0\" class=\"data row4 col0\" >1.494079</td>\n",
       "      <td id=\"T_b4908_row4_col1\" class=\"data row4 col1\" >-0.205158</td>\n",
       "      <td id=\"T_b4908_row4_col2\" class=\"data row4 col2\" >0.313068</td>\n",
       "      <td id=\"T_b4908_row4_col3\" class=\"data row4 col3\" >-0.854096</td>\n",
       "    </tr>\n",
       "    <tr>\n",
       "      <th id=\"T_b4908_level0_row5\" class=\"row_heading level0 row5\" >5</th>\n",
       "      <td id=\"T_b4908_row5_col0\" class=\"data row5 col0\" >-2.552990</td>\n",
       "      <td id=\"T_b4908_row5_col1\" class=\"data row5 col1\" >0.653619</td>\n",
       "      <td id=\"T_b4908_row5_col2\" class=\"data row5 col2\" >0.864436</td>\n",
       "      <td id=\"T_b4908_row5_col3\" class=\"data row5 col3\" >-0.742165</td>\n",
       "    </tr>\n",
       "    <tr>\n",
       "      <th id=\"T_b4908_level0_row6\" class=\"row_heading level0 row6\" >6</th>\n",
       "      <td id=\"T_b4908_row6_col0\" class=\"data row6 col0\" >2.269755</td>\n",
       "      <td id=\"T_b4908_row6_col1\" class=\"data row6 col1\" >-1.454366</td>\n",
       "      <td id=\"T_b4908_row6_col2\" class=\"data row6 col2\" >0.045759</td>\n",
       "      <td id=\"T_b4908_row6_col3\" class=\"data row6 col3\" >-0.187184</td>\n",
       "    </tr>\n",
       "    <tr>\n",
       "      <th id=\"T_b4908_level0_row7\" class=\"row_heading level0 row7\" >7</th>\n",
       "      <td id=\"T_b4908_row7_col0\" class=\"data row7 col0\" >1.532779</td>\n",
       "      <td id=\"T_b4908_row7_col1\" class=\"data row7 col1\" >1.469359</td>\n",
       "      <td id=\"T_b4908_row7_col2\" class=\"data row7 col2\" >0.154947</td>\n",
       "      <td id=\"T_b4908_row7_col3\" class=\"data row7 col3\" >0.378163</td>\n",
       "    </tr>\n",
       "    <tr>\n",
       "      <th id=\"T_b4908_level0_row8\" class=\"row_heading level0 row8\" >8</th>\n",
       "      <td id=\"T_b4908_row8_col0\" class=\"data row8 col0\" >-0.887786</td>\n",
       "      <td id=\"T_b4908_row8_col1\" class=\"data row8 col1\" >-1.980796</td>\n",
       "      <td id=\"T_b4908_row8_col2\" class=\"data row8 col2\" >-0.347912</td>\n",
       "      <td id=\"T_b4908_row8_col3\" class=\"data row8 col3\" >0.156349</td>\n",
       "    </tr>\n",
       "    <tr>\n",
       "      <th id=\"T_b4908_level0_row9\" class=\"row_heading level0 row9\" >9</th>\n",
       "      <td id=\"T_b4908_row9_col0\" class=\"data row9 col0\" >1.230291</td>\n",
       "      <td id=\"T_b4908_row9_col1\" class=\"data row9 col1\" >1.202380</td>\n",
       "      <td id=\"T_b4908_row9_col2\" class=\"data row9 col2\" >-0.387327</td>\n",
       "      <td id=\"T_b4908_row9_col3\" class=\"data row9 col3\" >-0.302303</td>\n",
       "    </tr>\n",
       "  </tbody>\n",
       "</table>\n"
      ],
      "text/plain": [
       "<pandas.io.formats.style.Styler at 0x108d81460>"
      ]
     },
     "execution_count": 6,
     "metadata": {},
     "output_type": "execute_result"
    }
   ],
   "source": [
    "np.random.seed(0)\n",
    "df2 = pd.DataFrame(np.random.randn(10,4), columns=['A','B','C','D'])\n",
    "df2.style"
   ]
  },
  {
   "cell_type": "markdown",
   "metadata": {},
   "source": [
    "## __Panda: ex 3 (plotting)__"
   ]
  },
  {
   "cell_type": "code",
   "execution_count": 7,
   "metadata": {},
   "outputs": [
    {
     "data": {
      "text/plain": [
       "<AxesSubplot:>"
      ]
     },
     "execution_count": 7,
     "metadata": {},
     "output_type": "execute_result"
    },
    {
     "data": {
      "image/png": "[encoded data removed]",
      "text/plain": [
       "<Figure size 432x288 with 1 Axes>"
      ]
     },
     "metadata": {
      "needs_background": "light"
     },
     "output_type": "display_data"
    }
   ],
   "source": [
    "ts = pd.Series(np.random.randn(1000), index=pd.date_range(\"1/1/2000\", periods=1000))\n",
    "ts.cumsum()\n",
    "ts.plot()"
   ]
  }
 ],
 "metadata": {
  "interpreter": {
   "hash": "e382f00930175810ff43e6d1dd43c20caa4fac8cda8d5a547fa4ce44995329e0"
  },
  "kernelspec": {
   "display_name": "Python 3.9.7 64-bit ('3.9.7': pyenv)",
   "language": "python",
   "name": "python3"
  },
  "language_info": {
   "codemirror_mode": {
    "name": "ipython",
    "version": 3
   },
   "file_extension": ".py",
   "mimetype": "text/x-python",
   "name": "python",
   "nbconvert_exporter": "python",
   "pygments_lexer": "ipython3",
   "version": "3.9.7"
  },
  "orig_nbformat": 4
 },
 "nbformat": 4,
 "nbformat_minor": 2
}
